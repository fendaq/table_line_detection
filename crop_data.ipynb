{
 "cells": [
  {
   "cell_type": "code",
   "execution_count": 11,
   "metadata": {},
   "outputs": [
    {
     "name": "stdout",
     "output_type": "stream",
     "text": [
      "Collecting tqdm\n",
      "  Downloading tqdm-4.21.0-py2.py3-none-any.whl (42kB)\n",
      "\u001b[K    100% |████████████████████████████████| 51kB 3.8MB/s ta 0:00:011\n",
      "\u001b[?25hInstalling collected packages: tqdm\n",
      "Successfully installed tqdm-4.21.0\n",
      "\u001b[33mYou are using pip version 9.0.1, however version 9.0.3 is available.\n",
      "You should consider upgrading via the 'pip install --upgrade pip' command.\u001b[0m\n"
     ]
    }
   ],
   "source": [
    "!pip install tqdm"
   ]
  },
  {
   "cell_type": "code",
   "execution_count": 30,
   "metadata": {},
   "outputs": [
    {
     "name": "stdout",
     "output_type": "stream",
     "text": [
      "Num of big examples: 3\n"
     ]
    }
   ],
   "source": [
    "import cv2\n",
    "import numpy as np\n",
    "from glob import glob\n",
    "import matplotlib.pyplot as plt\n",
    "def load_image(path, gray=False):\n",
    "    '''\n",
    "        return RGB or gray image\n",
    "    '''\n",
    "#     print(path, gray)\n",
    "    if gray:\n",
    "        return cv2.imread(path, 0)\n",
    "    else:\n",
    "        return cv2.cvtColor(cv2.imread(path), cv2.COLOR_BGR2RGB)\n",
    "\n",
    "def write_image(path, image):\n",
    "    # print('write: {}, shape:{}'.format(path, image.shape))\n",
    "    image = cv2.cvtColor(image, cv2.COLOR_RGB2BGR)\n",
    "    return cv2.imwrite(path, image)\n",
    "    \n",
    "def show(x):\n",
    "    plt.figure(figsize=(20, 20))\n",
    "    plt.show(plt.imshow(x))\n",
    "\n",
    "def normalize(im):\n",
    "    _ = np.array(im<250, dtype='uint8')\n",
    "    _ *= 255\n",
    "    return _\n",
    "    \n",
    "paths = glob('data/train/*')\n",
    "print('Num of big examples:', len(paths))\n",
    "CROP_SIZE=256"
   ]
  },
  {
   "cell_type": "code",
   "execution_count": 31,
   "metadata": {},
   "outputs": [],
   "source": [
    "def split(img):\n",
    "    w = img.shape[1]\n",
    "    return img[:,:w//2], normalize(img[:,w//2:])\n"
   ]
  },
  {
   "cell_type": "code",
   "execution_count": 32,
   "metadata": {},
   "outputs": [],
   "source": [
    "img = load_image(paths[0])\n",
    "img = cv2.resize(img, (0,0), fx=.5, fy=.5)\n",
    "a, b = split(img)"
   ]
  },
  {
   "cell_type": "code",
   "execution_count": 33,
   "metadata": {},
   "outputs": [],
   "source": [
    "def random_crop(a, b):\n",
    "    h,w = a.shape[:2]\n",
    "    i1 = np.random.choice(h-CROP_SIZE)\n",
    "    i2 = np.random.choice(w-CROP_SIZE)\n",
    "    a_=  a[i1:i1+CROP_SIZE, i2:i2+CROP_SIZE]\n",
    "    b_=  b[i1:i1+CROP_SIZE, i2:i2+CROP_SIZE]\n",
    "    return np.concatenate([a_, b_], axis=1)"
   ]
  },
  {
   "cell_type": "code",
   "execution_count": 34,
   "metadata": {},
   "outputs": [],
   "source": [
    "!rm -r data/croped_image\n",
    "!mkdir data/croped_image"
   ]
  },
  {
   "cell_type": "code",
   "execution_count": 35,
   "metadata": {},
   "outputs": [
    {
     "name": "stderr",
     "output_type": "stream",
     "text": [
      "100%|██████████| 4000/4000 [00:20<00:00, 193.03it/s]\n",
      "100%|██████████| 4000/4000 [00:21<00:00, 187.21it/s]\n",
      "100%|██████████| 4000/4000 [00:21<00:00, 185.95it/s]\n"
     ]
    }
   ],
   "source": [
    "i = 0\n",
    "from tqdm import tqdm \n",
    "for path in paths:\n",
    "    bigimg = load_image(path)\n",
    "    \n",
    "    a,b = split(bigimg)\n",
    "    for _ in tqdm(range(4000)):\n",
    "        sample = random_crop(a, b)\n",
    "        # plt.show(plt.imshow(sample))\n",
    "        write_image('data/croped_image/{}.png'.format(i), sample)\n",
    "        i += 1"
   ]
  },
  {
   "cell_type": "code",
   "execution_count": null,
   "metadata": {},
   "outputs": [],
   "source": []
  },
  {
   "cell_type": "code",
   "execution_count": null,
   "metadata": {},
   "outputs": [],
   "source": []
  },
  {
   "cell_type": "code",
   "execution_count": null,
   "metadata": {},
   "outputs": [],
   "source": []
  },
  {
   "cell_type": "code",
   "execution_count": null,
   "metadata": {},
   "outputs": [],
   "source": []
  }
 ],
 "metadata": {
  "kernelspec": {
   "display_name": "Python 3",
   "language": "python",
   "name": "python3"
  },
  "language_info": {
   "codemirror_mode": {
    "name": "ipython",
    "version": 3
   },
   "file_extension": ".py",
   "mimetype": "text/x-python",
   "name": "python",
   "nbconvert_exporter": "python",
   "pygments_lexer": "ipython3",
   "version": "3.6.3"
  }
 },
 "nbformat": 4,
 "nbformat_minor": 2
}
