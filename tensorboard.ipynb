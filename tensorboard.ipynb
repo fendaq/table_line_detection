{
 "cells": [
  {
   "cell_type": "code",
   "execution_count": null,
   "metadata": {
    "scrolled": true
   },
   "outputs": [
    {
     "name": "stdout",
     "output_type": "stream",
     "text": [
      "/home/ubuntu/anaconda3/lib/python3.6/site-packages/h5py/__init__.py:34: FutureWarning: Conversion of the second argument of issubdtype from `float` to `np.floating` is deprecated. In future, it will be treated as `np.float64 == np.dtype(float).type`.\n",
      "  from ._conv import register_converters as _register_converters\n",
      "/home/ubuntu/anaconda3/lib/python3.6/site-packages/matplotlib/__init__.py:962: UserWarning: Duplicate key in file \"/home/ubuntu/.config/matplotlib/matplotlibrc\", line #2\n",
      "  (fname, cnt))\n",
      "/home/ubuntu/anaconda3/lib/python3.6/site-packages/matplotlib/__init__.py:962: UserWarning: Duplicate key in file \"/home/ubuntu/.config/matplotlib/matplotlibrc\", line #3\n",
      "  (fname, cnt))\n",
      "\u001b[33mW0409 13:43:29.257994 Reloader tf_logging.py:86] Found more than one graph event per run, or there was a metagraph containing a graph_def, as well as one or more graph events.  Overwriting the graph with the newest event.\n",
      "\u001b[0m\u001b[33mW0409 13:43:29.276477 Reloader tf_logging.py:86] Found more than one metagraph event per run. Overwriting the metagraph with the newest event.\n",
      "\u001b[0m\u001b[33mW0409 13:43:29.336235 Reloader tf_logging.py:86] Found more than one graph event per run, or there was a metagraph containing a graph_def, as well as one or more graph events.  Overwriting the graph with the newest event.\n",
      "\u001b[0m\u001b[33mW0409 13:43:29.352132 Reloader tf_logging.py:86] Found more than one metagraph event per run. Overwriting the metagraph with the newest event.\n",
      "\u001b[0m\u001b[33mW0409 13:43:29.353652 Reloader tf_logging.py:86] Detected out of order event.step likely caused by a TensorFlow restart. Purging 172 expired tensor events from Tensorboard display between the previous step: 100 (timestamp: 1523269194.3753257) and current step: 0 (timestamp: 1523269258.880696).\n",
      "\u001b[0m\u001b[33mW0409 13:43:29.551332 Reloader tf_logging.py:86] Found more than one graph event per run, or there was a metagraph containing a graph_def, as well as one or more graph events.  Overwriting the graph with the newest event.\n",
      "\u001b[0m\u001b[33mW0409 13:43:29.569277 Reloader tf_logging.py:86] Found more than one metagraph event per run. Overwriting the metagraph with the newest event.\n",
      "\u001b[0m\u001b[33mW0409 13:43:29.574146 Reloader tf_logging.py:86] Detected out of order event.step likely caused by a TensorFlow restart. Purging 1032 expired tensor events from Tensorboard display between the previous step: 600 (timestamp: 1523269778.8662598) and current step: 0 (timestamp: 1523269813.549671).\n",
      "\u001b[0mTensorBoard 1.5.1 at http://ip-172-31-25-63:6006 (Press CTRL+C to quit)\n",
      "\u001b[33mW0409 13:43:30.978185 Reloader tf_logging.py:86] Found more than one graph event per run, or there was a metagraph containing a graph_def, as well as one or more graph events.  Overwriting the graph with the newest event.\n",
      "\u001b[0m\u001b[33mW0409 13:43:30.994835 Reloader tf_logging.py:86] Found more than one metagraph event per run. Overwriting the metagraph with the newest event.\n",
      "\u001b[0m\u001b[33mW0409 13:43:31.021969 Reloader tf_logging.py:86] Detected out of order event.step likely caused by a TensorFlow restart. Purging 6901 expired tensor events from Tensorboard display between the previous step: 4300 (timestamp: 1523270109.1594296) and current step: 0 (timestamp: 1523270207.8665295).\n",
      "\u001b[0m\u001b[33mW0409 13:43:31.285636 Reloader tf_logging.py:86] Found more than one graph event per run, or there was a metagraph containing a graph_def, as well as one or more graph events.  Overwriting the graph with the newest event.\n",
      "\u001b[0m\u001b[33mW0409 13:43:31.303453 Reloader tf_logging.py:86] Found more than one metagraph event per run. Overwriting the metagraph with the newest event.\n",
      "\u001b[0m\u001b[33mW0409 13:43:31.309663 Reloader tf_logging.py:86] Detected out of order event.step likely caused by a TensorFlow restart. Purging 1376 expired tensor events from Tensorboard display between the previous step: 800 (timestamp: 1523270277.879841) and current step: 0 (timestamp: 1523270323.590906).\n",
      "\u001b[0m\u001b[33mW0409 13:43:32.226795 Reloader tf_logging.py:86] Found more than one graph event per run, or there was a metagraph containing a graph_def, as well as one or more graph events.  Overwriting the graph with the newest event.\n",
      "\u001b[0m\u001b[33mW0409 13:43:32.241178 Reloader tf_logging.py:86] Found more than one metagraph event per run. Overwriting the metagraph with the newest event.\n",
      "\u001b[0m\u001b[33mW0409 13:43:32.262318 Reloader tf_logging.py:86] Detected out of order event.step likely caused by a TensorFlow restart. Purging 4703 expired tensor events from Tensorboard display between the previous step: 2900 (timestamp: 1523270572.7287524) and current step: 0 (timestamp: 1523270611.646742).\n",
      "\u001b[0m\u001b[33mW0409 13:43:33.045639 Reloader tf_logging.py:86] Found more than one graph event per run, or there was a metagraph containing a graph_def, as well as one or more graph events.  Overwriting the graph with the newest event.\n",
      "\u001b[0m\u001b[33mW0409 13:43:33.062178 Reloader tf_logging.py:86] Found more than one metagraph event per run. Overwriting the metagraph with the newest event.\n",
      "\u001b[0m\u001b[33mW0409 13:43:33.079797 Reloader tf_logging.py:86] Detected out of order event.step likely caused by a TensorFlow restart. Purging 4075 expired tensor events from Tensorboard display between the previous step: 2500 (timestamp: 1523271002.244452) and current step: 0 (timestamp: 1523271032.5966113).\n",
      "\u001b[0m\u001b[33mW0409 13:43:33.381417 Reloader tf_logging.py:86] Found more than one graph event per run, or there was a metagraph containing a graph_def, as well as one or more graph events.  Overwriting the graph with the newest event.\n",
      "\u001b[0m\u001b[33mW0409 13:43:33.395688 Reloader tf_logging.py:86] Found more than one metagraph event per run. Overwriting the metagraph with the newest event.\n",
      "\u001b[0m\u001b[33mW0409 13:43:33.401940 Reloader tf_logging.py:86] Detected out of order event.step likely caused by a TensorFlow restart. Purging 1548 expired tensor events from Tensorboard display between the previous step: 900 (timestamp: 1523271111.2846956) and current step: 0 (timestamp: 1523271203.3546233).\n",
      "\u001b[0m\u001b[33mW0409 13:43:33.484073 Reloader tf_logging.py:86] Found more than one graph event per run, or there was a metagraph containing a graph_def, as well as one or more graph events.  Overwriting the graph with the newest event.\n",
      "\u001b[0m\u001b[33mW0409 13:43:33.498787 Reloader tf_logging.py:86] Found more than one metagraph event per run. Overwriting the metagraph with the newest event.\n",
      "\u001b[0m\u001b[33mW0409 13:43:33.501107 Reloader tf_logging.py:86] Detected out of order event.step likely caused by a TensorFlow restart. Purging 344 expired tensor events from Tensorboard display between the previous step: 200 (timestamp: 1523271222.7231123) and current step: 0 (timestamp: 1523271584.825907).\n",
      "\u001b[0m\u001b[33mW0409 13:43:37.554387 Reloader tf_logging.py:86] Found more than one graph event per run, or there was a metagraph containing a graph_def, as well as one or more graph events.  Overwriting the graph with the newest event.\n",
      "\u001b[0m\u001b[33mW0409 13:43:37.560403 Reloader tf_logging.py:86] Found more than one metagraph event per run. Overwriting the metagraph with the newest event.\n",
      "\u001b[0m\u001b[33mW0409 13:43:37.640830 Reloader tf_logging.py:86] Detected out of order event.step likely caused by a TensorFlow restart. Purging 19932 expired tensor events from Tensorboard display between the previous step: 12600 (timestamp: 1523272658.3360565) and current step: 0 (timestamp: 1523281316.4486444).\n",
      "\u001b[0m"
     ]
    }
   ],
   "source": [
    "!tensorboard --logdir output/v2"
   ]
  },
  {
   "cell_type": "code",
   "execution_count": null,
   "metadata": {},
   "outputs": [],
   "source": []
  }
 ],
 "metadata": {
  "kernelspec": {
   "display_name": "Python 3",
   "language": "python",
   "name": "python3"
  },
  "language_info": {
   "codemirror_mode": {
    "name": "ipython",
    "version": 3
   },
   "file_extension": ".py",
   "mimetype": "text/x-python",
   "name": "python",
   "nbconvert_exporter": "python",
   "pygments_lexer": "ipython3",
   "version": "3.6.3"
  }
 },
 "nbformat": 4,
 "nbformat_minor": 2
}
