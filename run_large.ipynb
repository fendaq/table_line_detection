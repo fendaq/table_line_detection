{
 "cells": [
  {
   "cell_type": "code",
   "execution_count": 1,
   "metadata": {},
   "outputs": [
    {
     "name": "stderr",
     "output_type": "stream",
     "text": [
      "/home/ubuntu/anaconda3/lib/python3.6/site-packages/h5py/__init__.py:34: FutureWarning: Conversion of the second argument of issubdtype from `float` to `np.floating` is deprecated. In future, it will be treated as `np.float64 == np.dtype(float).type`.\n",
      "  from ._conv import register_converters as _register_converters\n",
      "/home/ubuntu/anaconda3/lib/python3.6/site-packages/matplotlib/__init__.py:962: UserWarning: Duplicate key in file \"/home/ubuntu/.config/matplotlib/matplotlibrc\", line #2\n",
      "  (fname, cnt))\n",
      "/home/ubuntu/anaconda3/lib/python3.6/site-packages/matplotlib/__init__.py:962: UserWarning: Duplicate key in file \"/home/ubuntu/.config/matplotlib/matplotlibrc\", line #3\n",
      "  (fname, cnt))\n"
     ]
    }
   ],
   "source": [
    "from time import time\n",
    "import tensorflow as tf\n",
    "import cv2\n",
    "import numpy as np\n",
    "import os\n",
    "from glob import glob\n",
    "import math\n",
    "\n",
    "# parser = argparse.ArgumentParser()\n",
    "# parser.add_argument('--export', default=False, type=bool)\n",
    "# parser.add_argument('--checkpoint', default='pix2pix/output/128x1024_v3')\n",
    "# parser.add_argument('--strides', default=[64, 256], type=int, help='the strides for exported model')\n",
    "# parser.add_argument('--input_dir', default='data/cell_data',\n",
    "#                     help='directory to input images')\n",
    "# parser.add_argument(\n",
    "#     '--output_dir', default='output/run_method2', help='output image')\n",
    "# args = parser.parse_args()\n",
    "\n",
    "checkpoint = 'output/exported/'\n",
    "output_dir = os.path.join(checkpoint, 'images')\n",
    "input_dir = 'data/bprost/'\n",
    "def get_tensor_by_name(name):\n",
    "    name_on_device = '{}:0'.format(name)\n",
    "    return tf.get_default_graph().get_tensor_by_name(name_on_device)\n",
    "\n",
    "def load_image(path, verbal=False):\n",
    "    print('---------------------------\\nprocess:', path)\n",
    "    name = path.split('/')[-1].split('.')[0]\n",
    "    image = cv2.imread(path)\n",
    "    image = cv2.cvtColor(image, cv2.COLOR_BGR2RGB)\n",
    "    return image\n",
    "\n",
    "def write(path, image):\n",
    "    image = cv2.cvtColor(image, cv2.COLOR_RGB2BGR)\n",
    "    return cv2.imwrite(path, image)\n",
    "\n",
    "   "
   ]
  },
  {
   "cell_type": "code",
   "execution_count": 3,
   "metadata": {
    "scrolled": true
   },
   "outputs": [
    {
     "name": "stdout",
     "output_type": "stream",
     "text": [
      "meta path: output/exported/export.meta\n",
      "INFO:tensorflow:Restoring parameters from output/exported/export\n",
      "Num of sample: 9 data/bprost/\n",
      "---------------------------\n",
      "process: data/bprost/IMG_9263.JPG\n",
      "output/exported/images/IMG_9263_input.png\n",
      "3.788323163986206\n",
      "---------------------------\n",
      "process: data/bprost/IMG_9270.JPG\n",
      "output/exported/images/IMG_9270_input.png\n",
      "3.647564649581909\n",
      "---------------------------\n",
      "process: data/bprost/IMG_9269.JPG\n",
      "output/exported/images/IMG_9269_input.png\n",
      "3.621767997741699\n",
      "---------------------------\n",
      "process: data/bprost/IMG_9271.JPG\n",
      "output/exported/images/IMG_9271_input.png\n",
      "3.6516268253326416\n",
      "---------------------------\n",
      "process: data/bprost/IMG_9265.JPG\n",
      "output/exported/images/IMG_9265_input.png\n",
      "3.6664915084838867\n",
      "---------------------------\n",
      "process: data/bprost/IMG_9268.JPG\n",
      "output/exported/images/IMG_9268_input.png\n",
      "3.6316301822662354\n",
      "---------------------------\n",
      "process: data/bprost/IMG_9272.JPG\n",
      "output/exported/images/IMG_9272_input.png\n",
      "3.686495065689087\n",
      "---------------------------\n",
      "process: data/bprost/IMG_9264.JPG\n",
      "output/exported/images/IMG_9264_input.png\n",
      "3.6504433155059814\n",
      "---------------------------\n",
      "process: data/bprost/IMG_9274.JPG\n",
      "output/exported/images/IMG_9274_input.png\n",
      "3.6955559253692627\n",
      "Running time: 0.00013780593872070312\n"
     ]
    }
   ],
   "source": [
    "\n",
    "tf.reset_default_graph()\n",
    "from time import time\n",
    "meta_path = os.path.join(checkpoint, 'export.meta')\n",
    "print('meta path:', meta_path)\n",
    "\n",
    "assert os.path.exists(meta_path), meta_path+' does not exist'\n",
    "\n",
    "tf.train.import_meta_graph(meta_path)\n",
    "sess = tf.Session()\n",
    "saver = tf.train.Saver()\n",
    "\n",
    "saver.restore(sess, tf.train.latest_checkpoint(\n",
    "    checkpoint))\n",
    "\n",
    "os.makedirs(output_dir, exist_ok=True)\n",
    "start = time()\n",
    "paths = glob('{}/*.JPG'.format(input_dir))\n",
    "paths = [path for path in paths]\n",
    "assert len(paths) > 0\n",
    "print('Num of sample:', len(paths), input_dir)\n",
    "inputs = get_tensor_by_name('inputs')\n",
    "outputs = get_tensor_by_name('outputs')\n",
    "start = time()\n",
    "for path in paths:\n",
    "    name = path.split('/')[-1].split('.')[0]\n",
    "    image = load_image(path, verbal=True)\n",
    "    output_image = sess.run(outputs, {inputs: image})\n",
    "    merge_image = (0.5*image+0.5*output_image).astype('uint8')\n",
    "    # os.makedirs('output/{}_{}'.format(args.stride, name), exist_ok=True)\n",
    "    print('{}/{}_input.png'.format(output_dir, name))\n",
    "    write('{}/{}_input.png'.format(output_dir, name), image)\n",
    "    write('{}/{}_output.png'.format(output_dir, name), output_image)\n",
    "    write('{}/{}_merge.png'.format(output_dir, name), merge_image)\n",
    "    print(time()-start)\n",
    "    start = time()\n",
    "print('Running time:', time()-start)\n"
   ]
  },
  {
   "cell_type": "code",
   "execution_count": 4,
   "metadata": {},
   "outputs": [
    {
     "data": {
      "text/plain": [
       "13611523"
      ]
     },
     "execution_count": 4,
     "metadata": {},
     "output_type": "execute_result"
    }
   ],
   "source": [
    "np.sum([np.prod(v.get_shape().as_list()) for v in tf.trainable_variables()])\n"
   ]
  },
  {
   "cell_type": "code",
   "execution_count": null,
   "metadata": {},
   "outputs": [],
   "source": []
  }
 ],
 "metadata": {
  "kernelspec": {
   "display_name": "Python 3",
   "language": "python",
   "name": "python3"
  },
  "language_info": {
   "codemirror_mode": {
    "name": "ipython",
    "version": 3
   },
   "file_extension": ".py",
   "mimetype": "text/x-python",
   "name": "python",
   "nbconvert_exporter": "python",
   "pygments_lexer": "ipython3",
   "version": "3.6.3"
  }
 },
 "nbformat": 4,
 "nbformat_minor": 2
}
